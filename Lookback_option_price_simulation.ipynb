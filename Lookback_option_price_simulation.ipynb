{
 "cells": [
  {
   "cell_type": "markdown",
   "metadata": {},
   "source": [
    "This project aims to price a path-dependent option using Monte Carlo simulation.    \n",
    "\n",
    "Assume that under risk-neutral measure,the prices of these underlying assets are all geometric Browinan Motion.\n",
    "\n",
    "$$S_T^{(i)}=S_0^{(i)}e^{(r-\\frac{1}{2}\\sigma^{2})T+\\sigma_iW_T^{(i)}}, i=1,2,3...$$\n",
    "\n",
    "We assume the payoff of the option is:\n",
    "   \n",
    "$$ max(min(\\frac{S_T^1}{S_0^1},\\frac{S_T^2}{S_0^2}...),K)$$\n",
    "\n",
    "in order to use monte-carlo simulation to price the option, we need to first determine the variance-covariance matrix. Here we assume that the variance is constant and compute them from history."
   ]
  },
  {
   "cell_type": "code",
   "execution_count": 14,
   "metadata": {},
   "outputs": [],
   "source": [
    "import numpy as np\n",
    "import pandas as pd\n",
    "import matplotlib.pyplot as plt"
   ]
  },
  {
   "cell_type": "code",
   "execution_count": 15,
   "metadata": {},
   "outputs": [
    {
     "data": {
      "text/html": [
       "<div>\n",
       "<style scoped>\n",
       "    .dataframe tbody tr th:only-of-type {\n",
       "        vertical-align: middle;\n",
       "    }\n",
       "\n",
       "    .dataframe tbody tr th {\n",
       "        vertical-align: top;\n",
       "    }\n",
       "\n",
       "    .dataframe thead th {\n",
       "        text-align: right;\n",
       "    }\n",
       "</style>\n",
       "<table border=\"1\" class=\"dataframe\">\n",
       "  <thead>\n",
       "    <tr style=\"text-align: right;\">\n",
       "      <th></th>\n",
       "      <th>收盘</th>\n",
       "      <th>净值</th>\n",
       "      <th>涨跌幅</th>\n",
       "      <th>开盘</th>\n",
       "      <th>低值</th>\n",
       "      <th>高值</th>\n",
       "      <th>成交量</th>\n",
       "    </tr>\n",
       "    <tr>\n",
       "      <th>交易日期</th>\n",
       "      <th></th>\n",
       "      <th></th>\n",
       "      <th></th>\n",
       "      <th></th>\n",
       "      <th></th>\n",
       "      <th></th>\n",
       "      <th></th>\n",
       "    </tr>\n",
       "  </thead>\n",
       "  <tbody>\n",
       "    <tr>\n",
       "      <th>2021-03-02</th>\n",
       "      <td>125.12</td>\n",
       "      <td>-2.67</td>\n",
       "      <td>-0.020894</td>\n",
       "      <td>128.41</td>\n",
       "      <td>125.01</td>\n",
       "      <td>128.720</td>\n",
       "      <td>102260945</td>\n",
       "    </tr>\n",
       "    <tr>\n",
       "      <th>2021-03-03</th>\n",
       "      <td>122.06</td>\n",
       "      <td>-3.06</td>\n",
       "      <td>-0.024457</td>\n",
       "      <td>124.81</td>\n",
       "      <td>121.84</td>\n",
       "      <td>125.710</td>\n",
       "      <td>112966340</td>\n",
       "    </tr>\n",
       "    <tr>\n",
       "      <th>2021-03-04</th>\n",
       "      <td>120.13</td>\n",
       "      <td>-1.93</td>\n",
       "      <td>-0.015812</td>\n",
       "      <td>121.75</td>\n",
       "      <td>118.62</td>\n",
       "      <td>123.600</td>\n",
       "      <td>178154975</td>\n",
       "    </tr>\n",
       "    <tr>\n",
       "      <th>2021-03-05</th>\n",
       "      <td>121.42</td>\n",
       "      <td>1.29</td>\n",
       "      <td>0.010738</td>\n",
       "      <td>120.98</td>\n",
       "      <td>117.57</td>\n",
       "      <td>121.935</td>\n",
       "      <td>153766601</td>\n",
       "    </tr>\n",
       "    <tr>\n",
       "      <th>2021-03-08</th>\n",
       "      <td>116.36</td>\n",
       "      <td>-5.06</td>\n",
       "      <td>-0.041674</td>\n",
       "      <td>120.93</td>\n",
       "      <td>116.21</td>\n",
       "      <td>121.000</td>\n",
       "      <td>154376610</td>\n",
       "    </tr>\n",
       "  </tbody>\n",
       "</table>\n",
       "</div>"
      ],
      "text/plain": [
       "                收盘    净值       涨跌幅      开盘      低值       高值        成交量\n",
       "交易日期                                                                  \n",
       "2021-03-02  125.12 -2.67 -0.020894  128.41  125.01  128.720  102260945\n",
       "2021-03-03  122.06 -3.06 -0.024457  124.81  121.84  125.710  112966340\n",
       "2021-03-04  120.13 -1.93 -0.015812  121.75  118.62  123.600  178154975\n",
       "2021-03-05  121.42  1.29  0.010738  120.98  117.57  121.935  153766601\n",
       "2021-03-08  116.36 -5.06 -0.041674  120.93  116.21  121.000  154376610"
      ]
     },
     "execution_count": 15,
     "metadata": {},
     "output_type": "execute_result"
    }
   ],
   "source": [
    "def read_file(file_name):\n",
    "    df=pd.read_excel(file_name,header=0,index_col=0,parse_dates=True,usecols=list(range(8)))\n",
    "    return df\n",
    "\n",
    "aapl=read_file('aapl.xlsx')\n",
    "msft=read_file('msft.xlsx')\n",
    "goog=read_file('goog.xlsx')\n",
    "amzn=read_file('amzn.xlsx')\n",
    "amzn=amzn.iloc[::-1]   # data cleaning\n",
    "aapl=aapl.iloc[1:,:]   # remove Nan values\n",
    "msft=msft.iloc[1:,:]\n",
    "goog=goog.iloc[1:,:]\n",
    "amzn=amzn.iloc[1:,:]\n",
    "aapl.head()"
   ]
  },
  {
   "cell_type": "markdown",
   "metadata": {},
   "source": [
    "Now we extract the value change in price history as the return matrix and compute the corresponding variance and correlation matrix for the purpose of cholesky decomposition."
   ]
  },
  {
   "cell_type": "code",
   "execution_count": 16,
   "metadata": {},
   "outputs": [
    {
     "data": {
      "text/html": [
       "<div>\n",
       "<style scoped>\n",
       "    .dataframe tbody tr th:only-of-type {\n",
       "        vertical-align: middle;\n",
       "    }\n",
       "\n",
       "    .dataframe tbody tr th {\n",
       "        vertical-align: top;\n",
       "    }\n",
       "\n",
       "    .dataframe thead th {\n",
       "        text-align: right;\n",
       "    }\n",
       "</style>\n",
       "<table border=\"1\" class=\"dataframe\">\n",
       "  <thead>\n",
       "    <tr style=\"text-align: right;\">\n",
       "      <th></th>\n",
       "      <th>aapl</th>\n",
       "      <th>msft</th>\n",
       "      <th>goog</th>\n",
       "      <th>amzn</th>\n",
       "    </tr>\n",
       "    <tr>\n",
       "      <th>交易日期</th>\n",
       "      <th></th>\n",
       "      <th></th>\n",
       "      <th></th>\n",
       "      <th></th>\n",
       "    </tr>\n",
       "  </thead>\n",
       "  <tbody>\n",
       "    <tr>\n",
       "      <th>2021-03-02</th>\n",
       "      <td>-0.020894</td>\n",
       "      <td>-0.012957</td>\n",
       "      <td>-0.002724</td>\n",
       "      <td>-0.016404</td>\n",
       "    </tr>\n",
       "    <tr>\n",
       "      <th>2021-03-03</th>\n",
       "      <td>-0.024457</td>\n",
       "      <td>-0.026981</td>\n",
       "      <td>-0.023668</td>\n",
       "      <td>-0.028932</td>\n",
       "    </tr>\n",
       "    <tr>\n",
       "      <th>2021-03-04</th>\n",
       "      <td>-0.015812</td>\n",
       "      <td>-0.003647</td>\n",
       "      <td>0.011043</td>\n",
       "      <td>-0.009128</td>\n",
       "    </tr>\n",
       "    <tr>\n",
       "      <th>2021-03-05</th>\n",
       "      <td>0.010738</td>\n",
       "      <td>0.021479</td>\n",
       "      <td>0.029013</td>\n",
       "      <td>0.007687</td>\n",
       "    </tr>\n",
       "    <tr>\n",
       "      <th>2021-03-08</th>\n",
       "      <td>-0.041674</td>\n",
       "      <td>-0.018178</td>\n",
       "      <td>-0.040013</td>\n",
       "      <td>-0.016168</td>\n",
       "    </tr>\n",
       "  </tbody>\n",
       "</table>\n",
       "</div>"
      ],
      "text/plain": [
       "                aapl      msft      goog      amzn\n",
       "交易日期                                              \n",
       "2021-03-02 -0.020894 -0.012957 -0.002724 -0.016404\n",
       "2021-03-03 -0.024457 -0.026981 -0.023668 -0.028932\n",
       "2021-03-04 -0.015812 -0.003647  0.011043 -0.009128\n",
       "2021-03-05  0.010738  0.021479  0.029013  0.007687\n",
       "2021-03-08 -0.041674 -0.018178 -0.040013 -0.016168"
      ]
     },
     "execution_count": 16,
     "metadata": {},
     "output_type": "execute_result"
    }
   ],
   "source": [
    "rtn_mtx=pd.DataFrame(np.concatenate((aapl[['涨跌幅']],msft[['涨跌幅']],goog[['涨跌幅']],amzn[['涨跌幅']]),axis=1),index=aapl.index,columns=['aapl','msft','goog','amzn'])\n",
    "rtn_mtx.head()"
   ]
  },
  {
   "cell_type": "code",
   "execution_count": 17,
   "metadata": {},
   "outputs": [
    {
     "data": {
      "text/plain": [
       "array([0.02058076, 0.01632593, 0.01675427, 0.01670781])"
      ]
     },
     "execution_count": 17,
     "metadata": {},
     "output_type": "execute_result"
    }
   ],
   "source": [
    "std_array=rtn_mtx.std().values\n",
    "std_array"
   ]
  },
  {
   "cell_type": "code",
   "execution_count": 5,
   "metadata": {},
   "outputs": [
    {
     "data": {
      "text/html": [
       "<div>\n",
       "<style scoped>\n",
       "    .dataframe tbody tr th:only-of-type {\n",
       "        vertical-align: middle;\n",
       "    }\n",
       "\n",
       "    .dataframe tbody tr th {\n",
       "        vertical-align: top;\n",
       "    }\n",
       "\n",
       "    .dataframe thead th {\n",
       "        text-align: right;\n",
       "    }\n",
       "</style>\n",
       "<table border=\"1\" class=\"dataframe\">\n",
       "  <thead>\n",
       "    <tr style=\"text-align: right;\">\n",
       "      <th></th>\n",
       "      <th>aapl</th>\n",
       "      <th>msft</th>\n",
       "      <th>goog</th>\n",
       "      <th>amzn</th>\n",
       "    </tr>\n",
       "  </thead>\n",
       "  <tbody>\n",
       "    <tr>\n",
       "      <th>aapl</th>\n",
       "      <td>1.000000</td>\n",
       "      <td>0.833797</td>\n",
       "      <td>0.668058</td>\n",
       "      <td>0.788133</td>\n",
       "    </tr>\n",
       "    <tr>\n",
       "      <th>msft</th>\n",
       "      <td>0.833797</td>\n",
       "      <td>1.000000</td>\n",
       "      <td>0.689893</td>\n",
       "      <td>0.843785</td>\n",
       "    </tr>\n",
       "    <tr>\n",
       "      <th>goog</th>\n",
       "      <td>0.668058</td>\n",
       "      <td>0.689893</td>\n",
       "      <td>1.000000</td>\n",
       "      <td>0.677481</td>\n",
       "    </tr>\n",
       "    <tr>\n",
       "      <th>amzn</th>\n",
       "      <td>0.788133</td>\n",
       "      <td>0.843785</td>\n",
       "      <td>0.677481</td>\n",
       "      <td>1.000000</td>\n",
       "    </tr>\n",
       "  </tbody>\n",
       "</table>\n",
       "</div>"
      ],
      "text/plain": [
       "          aapl      msft      goog      amzn\n",
       "aapl  1.000000  0.833797  0.668058  0.788133\n",
       "msft  0.833797  1.000000  0.689893  0.843785\n",
       "goog  0.668058  0.689893  1.000000  0.677481\n",
       "amzn  0.788133  0.843785  0.677481  1.000000"
      ]
     },
     "execution_count": 5,
     "metadata": {},
     "output_type": "execute_result"
    }
   ],
   "source": [
    "cor=rtn_mtx.corr()\n",
    "cor"
   ]
  },
  {
   "cell_type": "code",
   "execution_count": 18,
   "metadata": {},
   "outputs": [
    {
     "data": {
      "text/plain": [
       "array([[1.        , 0.        , 0.        , 0.        ],\n",
       "       [0.83379719, 0.55207086, 0.        , 0.        ],\n",
       "       [0.66805789, 0.24067154, 0.70411353, 0.        ],\n",
       "       [0.78813333, 0.33807494, 0.09884323, 0.50475856]])"
      ]
     },
     "execution_count": 18,
     "metadata": {},
     "output_type": "execute_result"
    }
   ],
   "source": [
    "# corr=np.corrcoef(var_mtx.T)\n",
    "cholesky_decomp=np.linalg.cholesky(cor)\n",
    "# cholesky_decomp=np.matrix(cholesky_decomp)\n",
    "cholesky_decomp"
   ]
  },
  {
   "cell_type": "markdown",
   "metadata": {},
   "source": [
    "Next we construct risk-free interest rate term structure from OIS rate using bootstrap method."
   ]
  },
  {
   "cell_type": "code",
   "execution_count": 19,
   "metadata": {},
   "outputs": [
    {
     "data": {
      "text/html": [
       "<div>\n",
       "<style scoped>\n",
       "    .dataframe tbody tr th:only-of-type {\n",
       "        vertical-align: middle;\n",
       "    }\n",
       "\n",
       "    .dataframe tbody tr th {\n",
       "        vertical-align: top;\n",
       "    }\n",
       "\n",
       "    .dataframe thead th {\n",
       "        text-align: right;\n",
       "    }\n",
       "</style>\n",
       "<table border=\"1\" class=\"dataframe\">\n",
       "  <thead>\n",
       "    <tr style=\"text-align: right;\">\n",
       "      <th></th>\n",
       "      <th>rfr_APR5</th>\n",
       "    </tr>\n",
       "  </thead>\n",
       "  <tbody>\n",
       "    <tr>\n",
       "      <th>2022-04-06</th>\n",
       "      <td>0.003351</td>\n",
       "    </tr>\n",
       "    <tr>\n",
       "      <th>2022-04-07</th>\n",
       "      <td>0.003368</td>\n",
       "    </tr>\n",
       "    <tr>\n",
       "      <th>2022-04-14</th>\n",
       "      <td>0.003474</td>\n",
       "    </tr>\n",
       "    <tr>\n",
       "      <th>2022-04-21</th>\n",
       "      <td>0.003512</td>\n",
       "    </tr>\n",
       "    <tr>\n",
       "      <th>2022-05-09</th>\n",
       "      <td>0.003780</td>\n",
       "    </tr>\n",
       "    <tr>\n",
       "      <th>2022-06-07</th>\n",
       "      <td>0.005670</td>\n",
       "    </tr>\n",
       "    <tr>\n",
       "      <th>2022-07-07</th>\n",
       "      <td>0.007560</td>\n",
       "    </tr>\n",
       "  </tbody>\n",
       "</table>\n",
       "</div>"
      ],
      "text/plain": [
       "            rfr_APR5\n",
       "2022-04-06  0.003351\n",
       "2022-04-07  0.003368\n",
       "2022-04-14  0.003474\n",
       "2022-04-21  0.003512\n",
       "2022-05-09  0.003780\n",
       "2022-06-07  0.005670\n",
       "2022-07-07  0.007560"
      ]
     },
     "execution_count": 19,
     "metadata": {},
     "output_type": "execute_result"
    }
   ],
   "source": [
    "OIS=pd.read_excel('interest_rate.xlsx',header=0,index_col=0,parse_dates=True)\n",
    "OIS_rate=pd.DataFrame(OIS['RATE/PRICE']/100)\n",
    "OIS_rate.index.name=None\n",
    "OIS_rate.columns=['rfr_APR5']\n",
    "OIS_rate"
   ]
  },
  {
   "cell_type": "code",
   "execution_count": 20,
   "metadata": {},
   "outputs": [],
   "source": [
    "def rfr(t1:str,t2:str)->float:\n",
    "    '''\n",
    "    Calculate the risk-free rate between t1 and t2\n",
    "    '''\n",
    "    t0=pd.to_datetime('2022-04-05')\n",
    "    t1=pd.to_datetime(t1)\n",
    "    t2=pd.to_datetime(t2)\n",
    "    t1_t0=(pd.to_datetime(t1)-t0).days/365\n",
    "    t2_t0=(pd.to_datetime(t2)-t0).days/365\n",
    "    delta_t=t2_t0-t1_t0\n",
    "    return (OIS_rate['rfr_APR5'][t2]*t2_t0-OIS_rate['rfr_APR5'][t1]*t1_t0)/delta_t\n",
    "\n",
    "def delta_t(t:str)->float:\n",
    "    '''\n",
    "    Calculate the delta t\n",
    "    '''\n",
    "    t0=pd.to_datetime('2022-04-05')\n",
    "    t=pd.to_datetime(t)\n",
    "    t_t0=(t-t0).days/365\n",
    "    return t_t0"
   ]
  },
  {
   "cell_type": "code",
   "execution_count": 21,
   "metadata": {},
   "outputs": [],
   "source": [
    "term=pd.date_range(start='2022-04-06',end='2022-07-07',freq='B')\n",
    "rfr_df=pd.DataFrame(index=term,dtype='float64',columns=['rfr_APR5','df'])\n",
    "rfr_df.update(OIS_rate)"
   ]
  },
  {
   "cell_type": "code",
   "execution_count": 22,
   "metadata": {},
   "outputs": [],
   "source": [
    "def add_rfr(pillar_date1,pillar_date2):\n",
    "    date1=pd.to_datetime(pillar_date1)\n",
    "    date2=pd.to_datetime(pillar_date2)\n",
    "    for i in pd.date_range(date1+pd.to_timedelta('1 days'),date2-pd.to_timedelta('1 days'),freq='B'):\n",
    "        rfr1=rfr_df['rfr_APR5'][pillar_date1]   # pillar1的OIS\n",
    "        rfr2=rfr_df['rfr_APR5'][pillar_date2]\n",
    "        rfr_m=rfr(pillar_date1,pillar_date2)\n",
    "        rfr_df.loc[i]['rfr_APR5']=rfr_m\n",
    "        rfr_df.loc[i]['df']=np.exp(-rfr1*delta_t(pillar_date1)-rfr_m*(delta_t(i)-delta_t(pillar_date1)))\n",
    "        "
   ]
  },
  {
   "cell_type": "code",
   "execution_count": 23,
   "metadata": {},
   "outputs": [
    {
     "data": {
      "text/html": [
       "<div>\n",
       "<style scoped>\n",
       "    .dataframe tbody tr th:only-of-type {\n",
       "        vertical-align: middle;\n",
       "    }\n",
       "\n",
       "    .dataframe tbody tr th {\n",
       "        vertical-align: top;\n",
       "    }\n",
       "\n",
       "    .dataframe thead th {\n",
       "        text-align: right;\n",
       "    }\n",
       "</style>\n",
       "<table border=\"1\" class=\"dataframe\">\n",
       "  <thead>\n",
       "    <tr style=\"text-align: right;\">\n",
       "      <th></th>\n",
       "      <th>rfr_APR5</th>\n",
       "      <th>df</th>\n",
       "    </tr>\n",
       "  </thead>\n",
       "  <tbody>\n",
       "    <tr>\n",
       "      <th>2022-04-06</th>\n",
       "      <td>0.003351</td>\n",
       "      <td>0.999991</td>\n",
       "    </tr>\n",
       "    <tr>\n",
       "      <th>2022-04-07</th>\n",
       "      <td>0.003368</td>\n",
       "      <td>0.999982</td>\n",
       "    </tr>\n",
       "    <tr>\n",
       "      <th>2022-04-08</th>\n",
       "      <td>0.003504</td>\n",
       "      <td>0.999972</td>\n",
       "    </tr>\n",
       "    <tr>\n",
       "      <th>2022-04-11</th>\n",
       "      <td>0.003504</td>\n",
       "      <td>0.999943</td>\n",
       "    </tr>\n",
       "    <tr>\n",
       "      <th>2022-04-12</th>\n",
       "      <td>0.003504</td>\n",
       "      <td>0.999934</td>\n",
       "    </tr>\n",
       "    <tr>\n",
       "      <th>...</th>\n",
       "      <td>...</td>\n",
       "      <td>...</td>\n",
       "    </tr>\n",
       "    <tr>\n",
       "      <th>2022-07-01</th>\n",
       "      <td>0.011529</td>\n",
       "      <td>0.998265</td>\n",
       "    </tr>\n",
       "    <tr>\n",
       "      <th>2022-07-04</th>\n",
       "      <td>0.011529</td>\n",
       "      <td>0.998170</td>\n",
       "    </tr>\n",
       "    <tr>\n",
       "      <th>2022-07-05</th>\n",
       "      <td>0.011529</td>\n",
       "      <td>0.998139</td>\n",
       "    </tr>\n",
       "    <tr>\n",
       "      <th>2022-07-06</th>\n",
       "      <td>0.011529</td>\n",
       "      <td>0.998107</td>\n",
       "    </tr>\n",
       "    <tr>\n",
       "      <th>2022-07-07</th>\n",
       "      <td>0.007560</td>\n",
       "      <td>0.998076</td>\n",
       "    </tr>\n",
       "  </tbody>\n",
       "</table>\n",
       "<p>67 rows × 2 columns</p>\n",
       "</div>"
      ],
      "text/plain": [
       "            rfr_APR5        df\n",
       "2022-04-06  0.003351  0.999991\n",
       "2022-04-07  0.003368  0.999982\n",
       "2022-04-08  0.003504  0.999972\n",
       "2022-04-11  0.003504  0.999943\n",
       "2022-04-12  0.003504  0.999934\n",
       "...              ...       ...\n",
       "2022-07-01  0.011529  0.998265\n",
       "2022-07-04  0.011529  0.998170\n",
       "2022-07-05  0.011529  0.998139\n",
       "2022-07-06  0.011529  0.998107\n",
       "2022-07-07  0.007560  0.998076\n",
       "\n",
       "[67 rows x 2 columns]"
      ]
     },
     "execution_count": 23,
     "metadata": {},
     "output_type": "execute_result"
    }
   ],
   "source": [
    "add_rfr('2022-04-07','2022-04-14')\n",
    "add_rfr('2022-04-14','2022-04-21')\n",
    "add_rfr('2022-04-21','2022-05-09')\n",
    "add_rfr('2022-05-09','2022-06-07')\n",
    "add_rfr('2022-06-07','2022-07-07')\n",
    "rfr_df['df']['2022-04-06']=np.exp(-rfr_df['rfr_APR5']['2022-04-06']*delta_t('2022-04-06'))\n",
    "rfr_df['df']['2022-04-07']=np.exp(-rfr_df['rfr_APR5']['2022-04-07']*delta_t('2022-04-07'))\n",
    "rfr_df['df']['2022-04-14']=np.exp(-rfr_df['rfr_APR5']['2022-04-14']*delta_t('2022-04-14'))\n",
    "rfr_df['df']['2022-04-21']=np.exp(-rfr_df['rfr_APR5']['2022-04-21']*delta_t('2022-04-21'))\n",
    "rfr_df['df']['2022-05-09']=np.exp(-rfr_df['rfr_APR5']['2022-05-09']*delta_t('2022-05-09'))\n",
    "rfr_df['df']['2022-06-07']=np.exp(-rfr_df['rfr_APR5']['2022-06-07']*delta_t('2022-06-07'))\n",
    "rfr_df['df']['2022-07-07']=np.exp(-rfr_df['rfr_APR5']['2022-07-07']*delta_t('2022-07-07'))\n",
    "rfr_df\n",
    "\n"
   ]
  },
  {
   "cell_type": "markdown",
   "metadata": {},
   "source": [
    "for the above table, the df column is the discount factor for the interval from 2022-04-06 to the corresponding date. We use this discount factor for the calculation of option price."
   ]
  },
  {
   "cell_type": "markdown",
   "metadata": {},
   "source": [
    "Next we construct the monte-carlo simulation procession. the procedure is as follows:       \n",
    "1, generate independent normal random numbers of dimension 4        \n",
    "2, use cholesky decomposition to generate correlated random numbers     \n",
    "3, calculate the simulated stock price under the geometric brownian motion assumption       \n",
    "4, compare the minimum of stock price ratio with the strike price, compute the payoff and discount to the current date.     \n",
    "5, repeat and simulate 10000 times to average the option price      \n",
    "6, print the option price and relative error (standard deviation of price to the price)"
   ]
  },
  {
   "cell_type": "code",
   "execution_count": 37,
   "metadata": {},
   "outputs": [
    {
     "name": "stdout",
     "output_type": "stream",
     "text": [
      "0.8006834534585396 0.009854067794804876\n"
     ]
    }
   ],
   "source": [
    "rng=np.random.default_rng(21)\n",
    "  # 存放St/S0\n",
    "K=0.8\n",
    "result=[]\n",
    "for m in range(10000):\n",
    "\n",
    "    for i in rfr_df.index:\n",
    "        St_S0=[]\n",
    "        Z=rng.standard_normal((4,1))\n",
    "        Y=np.dot(cholesky_decomp,Z)\n",
    "        interval=(i-rfr_df.index[0]).days\n",
    "        for j in range(4):\n",
    "            Si_S0=1/rfr_df.loc[i,'df']*np.exp(-1/2*std_array[j]**2*interval+std_array[j]*np.sqrt(interval)*Y[j][0])\n",
    "            St_S0.append(Si_S0)\n",
    "        minSt_S0=np.min(St_S0) \n",
    "        if minSt_S0>K: continue\n",
    "        else: break\n",
    "    payoff=max(K,minSt_S0)/rfr_df.loc[i,'df']\n",
    "    result.append(payoff)\n",
    "price=np.mean(result)\n",
    "std_price=np.std(result)/price\n",
    "print(price,std_price)\n"
   ]
  }
 ],
 "metadata": {
  "interpreter": {
   "hash": "b89b5cfaba6639976dc87ff2fec6d58faec662063367e2c229c520fe71072417"
  },
  "kernelspec": {
   "display_name": "Python 3.10.1 64-bit",
   "language": "python",
   "name": "python3"
  },
  "language_info": {
   "codemirror_mode": {
    "name": "ipython",
    "version": 3
   },
   "file_extension": ".py",
   "mimetype": "text/x-python",
   "name": "python",
   "nbconvert_exporter": "python",
   "pygments_lexer": "ipython3",
   "version": "3.9.12"
  },
  "orig_nbformat": 4
 },
 "nbformat": 4,
 "nbformat_minor": 2
}
