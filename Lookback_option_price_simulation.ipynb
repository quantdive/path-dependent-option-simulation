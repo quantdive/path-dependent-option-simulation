{
 "cells": [
  {
   "cell_type": "markdown",
   "metadata": {},
   "source": [
    "This project aims to price an out-performance option using Monte Carlo simulation.    \n",
    "\n",
    "Out-performance option payoffs depends on the prices of multiple assets. Assume that under risk-neutral measure,the prices of these underlying assets are all geometric Browinan Motion.\n",
    "\n",
    "$$S_T^{(i)}=S_0^{(i)}e^{(r-\\frac{1}{2}\\sigma^{2})T+\\sigma_iW_T^{(i)}}$$\n",
    "\n",
    "for an out-performance option, the payoff is:\n",
    "\n",
    "$$ (max(S_T^{(1)},...,S_T^{(d)})-K)^+ $$\n",
    "\n",
    "in order to use monte-carlo simulation to price the option, we need to first determine the variance-covariance matrix. We use EWMA(0.94) model in the historical data to do that."
   ]
  },
  {
   "cell_type": "code",
   "execution_count": 1,
   "metadata": {},
   "outputs": [],
   "source": [
    "import numpy as np\n",
    "import matplotlib.pyplot as plt\n",
    "import pandas as pd"
   ]
  },
  {
   "cell_type": "code",
   "execution_count": 2,
   "metadata": {},
   "outputs": [
    {
     "data": {
      "text/html": [
       "<div>\n",
       "<style scoped>\n",
       "    .dataframe tbody tr th:only-of-type {\n",
       "        vertical-align: middle;\n",
       "    }\n",
       "\n",
       "    .dataframe tbody tr th {\n",
       "        vertical-align: top;\n",
       "    }\n",
       "\n",
       "    .dataframe thead th {\n",
       "        text-align: right;\n",
       "    }\n",
       "</style>\n",
       "<table border=\"1\" class=\"dataframe\">\n",
       "  <thead>\n",
       "    <tr style=\"text-align: right;\">\n",
       "      <th></th>\n",
       "      <th>收盘</th>\n",
       "      <th>净值</th>\n",
       "      <th>涨跌幅</th>\n",
       "      <th>开盘</th>\n",
       "      <th>低值</th>\n",
       "      <th>高值</th>\n",
       "      <th>成交量</th>\n",
       "    </tr>\n",
       "    <tr>\n",
       "      <th>交易日期</th>\n",
       "      <th></th>\n",
       "      <th></th>\n",
       "      <th></th>\n",
       "      <th></th>\n",
       "      <th></th>\n",
       "      <th></th>\n",
       "      <th></th>\n",
       "    </tr>\n",
       "  </thead>\n",
       "  <tbody>\n",
       "    <tr>\n",
       "      <th>2021-03-02</th>\n",
       "      <td>125.12</td>\n",
       "      <td>-2.67</td>\n",
       "      <td>-0.020894</td>\n",
       "      <td>128.41</td>\n",
       "      <td>125.01</td>\n",
       "      <td>128.720</td>\n",
       "      <td>102260945</td>\n",
       "    </tr>\n",
       "    <tr>\n",
       "      <th>2021-03-03</th>\n",
       "      <td>122.06</td>\n",
       "      <td>-3.06</td>\n",
       "      <td>-0.024457</td>\n",
       "      <td>124.81</td>\n",
       "      <td>121.84</td>\n",
       "      <td>125.710</td>\n",
       "      <td>112966340</td>\n",
       "    </tr>\n",
       "    <tr>\n",
       "      <th>2021-03-04</th>\n",
       "      <td>120.13</td>\n",
       "      <td>-1.93</td>\n",
       "      <td>-0.015812</td>\n",
       "      <td>121.75</td>\n",
       "      <td>118.62</td>\n",
       "      <td>123.600</td>\n",
       "      <td>178154975</td>\n",
       "    </tr>\n",
       "    <tr>\n",
       "      <th>2021-03-05</th>\n",
       "      <td>121.42</td>\n",
       "      <td>1.29</td>\n",
       "      <td>0.010738</td>\n",
       "      <td>120.98</td>\n",
       "      <td>117.57</td>\n",
       "      <td>121.935</td>\n",
       "      <td>153766601</td>\n",
       "    </tr>\n",
       "    <tr>\n",
       "      <th>2021-03-08</th>\n",
       "      <td>116.36</td>\n",
       "      <td>-5.06</td>\n",
       "      <td>-0.041674</td>\n",
       "      <td>120.93</td>\n",
       "      <td>116.21</td>\n",
       "      <td>121.000</td>\n",
       "      <td>154376610</td>\n",
       "    </tr>\n",
       "  </tbody>\n",
       "</table>\n",
       "</div>"
      ],
      "text/plain": [
       "                收盘    净值       涨跌幅      开盘      低值       高值        成交量\n",
       "交易日期                                                                  \n",
       "2021-03-02  125.12 -2.67 -0.020894  128.41  125.01  128.720  102260945\n",
       "2021-03-03  122.06 -3.06 -0.024457  124.81  121.84  125.710  112966340\n",
       "2021-03-04  120.13 -1.93 -0.015812  121.75  118.62  123.600  178154975\n",
       "2021-03-05  121.42  1.29  0.010738  120.98  117.57  121.935  153766601\n",
       "2021-03-08  116.36 -5.06 -0.041674  120.93  116.21  121.000  154376610"
      ]
     },
     "execution_count": 2,
     "metadata": {},
     "output_type": "execute_result"
    }
   ],
   "source": [
    "def read_file(file_name):\n",
    "    df=pd.read_excel(file_name,header=0,index_col=0,parse_dates=True,usecols=list(range(8)))\n",
    "    return df\n",
    "aapl=read_file('aapl.xlsx')\n",
    "msft=read_file('msft.xlsx')\n",
    "goog=read_file('goog.xlsx')\n",
    "amzn=read_file('amzn.xlsx')\n",
    "amzn=amzn.iloc[::-1]   # data cleaning\n",
    "aapl=aapl.iloc[1:,:]   # remove Nan values\n",
    "msft=msft.iloc[1:,:]\n",
    "goog=goog.iloc[1:,:]\n",
    "amzn=amzn.iloc[1:,:]\n",
    "aapl.head()"
   ]
  },
  {
   "cell_type": "code",
   "execution_count": 3,
   "metadata": {},
   "outputs": [],
   "source": [
    "def ewma_var(logrtn:pd.Series)->pd.Series:\n",
    "    '''\n",
    "    Calculate the EWMA sigma of a series of log returns\n",
    "    '''\n",
    "    sigma=pd.Series(index=logrtn.index,dtype='float64')\n",
    "    sigma[0]=logrtn[0]**2\n",
    "    for i in range(1,len(logrtn)):\n",
    "        sigma[i]=0.94*sigma[i-1]+0.06*logrtn[i]**2\n",
    "    return sigma\n",
    "\n",
    "def add_var(df:pd.DataFrame)->pd.DataFrame:\n",
    "    '''\n",
    "    Add the EWMA sigma to the dataframe\n",
    "    '''\n",
    "    df['EWMA_var']=ewma_var(df['涨跌幅'])\n",
    "    return df"
   ]
  },
  {
   "cell_type": "code",
   "execution_count": 4,
   "metadata": {},
   "outputs": [
    {
     "data": {
      "text/html": [
       "<div>\n",
       "<style scoped>\n",
       "    .dataframe tbody tr th:only-of-type {\n",
       "        vertical-align: middle;\n",
       "    }\n",
       "\n",
       "    .dataframe tbody tr th {\n",
       "        vertical-align: top;\n",
       "    }\n",
       "\n",
       "    .dataframe thead th {\n",
       "        text-align: right;\n",
       "    }\n",
       "</style>\n",
       "<table border=\"1\" class=\"dataframe\">\n",
       "  <thead>\n",
       "    <tr style=\"text-align: right;\">\n",
       "      <th></th>\n",
       "      <th>收盘</th>\n",
       "      <th>净值</th>\n",
       "      <th>涨跌幅</th>\n",
       "      <th>开盘</th>\n",
       "      <th>低值</th>\n",
       "      <th>高值</th>\n",
       "      <th>成交量</th>\n",
       "      <th>EWMA_var</th>\n",
       "    </tr>\n",
       "    <tr>\n",
       "      <th>交易日期</th>\n",
       "      <th></th>\n",
       "      <th></th>\n",
       "      <th></th>\n",
       "      <th></th>\n",
       "      <th></th>\n",
       "      <th></th>\n",
       "      <th></th>\n",
       "      <th></th>\n",
       "    </tr>\n",
       "  </thead>\n",
       "  <tbody>\n",
       "    <tr>\n",
       "      <th>2021-03-02</th>\n",
       "      <td>3094.53</td>\n",
       "      <td>-51.61</td>\n",
       "      <td>-0.016404</td>\n",
       "      <td>3143.47</td>\n",
       "      <td>3087.1201</td>\n",
       "      <td>3163.520</td>\n",
       "      <td>2595762</td>\n",
       "      <td>0.000269</td>\n",
       "    </tr>\n",
       "    <tr>\n",
       "      <th>2021-03-03</th>\n",
       "      <td>3005.00</td>\n",
       "      <td>-89.53</td>\n",
       "      <td>-0.028932</td>\n",
       "      <td>3081.18</td>\n",
       "      <td>2995.0000</td>\n",
       "      <td>3107.775</td>\n",
       "      <td>3988725</td>\n",
       "      <td>0.000303</td>\n",
       "    </tr>\n",
       "    <tr>\n",
       "      <th>2021-03-04</th>\n",
       "      <td>2977.57</td>\n",
       "      <td>-27.43</td>\n",
       "      <td>-0.009128</td>\n",
       "      <td>3012.00</td>\n",
       "      <td>2945.4300</td>\n",
       "      <td>3058.130</td>\n",
       "      <td>5481578</td>\n",
       "      <td>0.000290</td>\n",
       "    </tr>\n",
       "    <tr>\n",
       "      <th>2021-03-05</th>\n",
       "      <td>3000.46</td>\n",
       "      <td>22.89</td>\n",
       "      <td>0.007687</td>\n",
       "      <td>3005.00</td>\n",
       "      <td>2881.0001</td>\n",
       "      <td>3009.000</td>\n",
       "      <td>5388551</td>\n",
       "      <td>0.000276</td>\n",
       "    </tr>\n",
       "    <tr>\n",
       "      <th>2021-03-08</th>\n",
       "      <td>2951.95</td>\n",
       "      <td>-48.51</td>\n",
       "      <td>-0.016168</td>\n",
       "      <td>3015.00</td>\n",
       "      <td>2951.3100</td>\n",
       "      <td>3064.590</td>\n",
       "      <td>4185008</td>\n",
       "      <td>0.000275</td>\n",
       "    </tr>\n",
       "  </tbody>\n",
       "</table>\n",
       "</div>"
      ],
      "text/plain": [
       "                 收盘     净值       涨跌幅       开盘         低值        高值      成交量  \\\n",
       "交易日期                                                                          \n",
       "2021-03-02  3094.53 -51.61 -0.016404  3143.47  3087.1201  3163.520  2595762   \n",
       "2021-03-03  3005.00 -89.53 -0.028932  3081.18  2995.0000  3107.775  3988725   \n",
       "2021-03-04  2977.57 -27.43 -0.009128  3012.00  2945.4300  3058.130  5481578   \n",
       "2021-03-05  3000.46  22.89  0.007687  3005.00  2881.0001  3009.000  5388551   \n",
       "2021-03-08  2951.95 -48.51 -0.016168  3015.00  2951.3100  3064.590  4185008   \n",
       "\n",
       "            EWMA_var  \n",
       "交易日期                  \n",
       "2021-03-02  0.000269  \n",
       "2021-03-03  0.000303  \n",
       "2021-03-04  0.000290  \n",
       "2021-03-05  0.000276  \n",
       "2021-03-08  0.000275  "
      ]
     },
     "execution_count": 4,
     "metadata": {},
     "output_type": "execute_result"
    }
   ],
   "source": [
    "aapl=add_var(aapl)\n",
    "msft=add_var(msft)\n",
    "goog=add_var(goog)\n",
    "amzn=add_var(amzn)\n",
    "amzn.head()"
   ]
  },
  {
   "cell_type": "code",
   "execution_count": 5,
   "metadata": {},
   "outputs": [
    {
     "data": {
      "text/html": [
       "<div>\n",
       "<style scoped>\n",
       "    .dataframe tbody tr th:only-of-type {\n",
       "        vertical-align: middle;\n",
       "    }\n",
       "\n",
       "    .dataframe tbody tr th {\n",
       "        vertical-align: top;\n",
       "    }\n",
       "\n",
       "    .dataframe thead th {\n",
       "        text-align: right;\n",
       "    }\n",
       "</style>\n",
       "<table border=\"1\" class=\"dataframe\">\n",
       "  <thead>\n",
       "    <tr style=\"text-align: right;\">\n",
       "      <th></th>\n",
       "      <th>aapl</th>\n",
       "      <th>msft</th>\n",
       "      <th>goog</th>\n",
       "      <th>amzn</th>\n",
       "    </tr>\n",
       "    <tr>\n",
       "      <th>交易日期</th>\n",
       "      <th></th>\n",
       "      <th></th>\n",
       "      <th></th>\n",
       "      <th></th>\n",
       "    </tr>\n",
       "  </thead>\n",
       "  <tbody>\n",
       "    <tr>\n",
       "      <th>2021-03-02</th>\n",
       "      <td>0.000437</td>\n",
       "      <td>0.000168</td>\n",
       "      <td>0.000007</td>\n",
       "      <td>0.000269</td>\n",
       "    </tr>\n",
       "    <tr>\n",
       "      <th>2021-03-03</th>\n",
       "      <td>0.000446</td>\n",
       "      <td>0.000201</td>\n",
       "      <td>0.000041</td>\n",
       "      <td>0.000303</td>\n",
       "    </tr>\n",
       "    <tr>\n",
       "      <th>2021-03-04</th>\n",
       "      <td>0.000434</td>\n",
       "      <td>0.000190</td>\n",
       "      <td>0.000045</td>\n",
       "      <td>0.000290</td>\n",
       "    </tr>\n",
       "    <tr>\n",
       "      <th>2021-03-05</th>\n",
       "      <td>0.000415</td>\n",
       "      <td>0.000206</td>\n",
       "      <td>0.000093</td>\n",
       "      <td>0.000276</td>\n",
       "    </tr>\n",
       "    <tr>\n",
       "      <th>2021-03-08</th>\n",
       "      <td>0.000495</td>\n",
       "      <td>0.000214</td>\n",
       "      <td>0.000184</td>\n",
       "      <td>0.000275</td>\n",
       "    </tr>\n",
       "  </tbody>\n",
       "</table>\n",
       "</div>"
      ],
      "text/plain": [
       "                aapl      msft      goog      amzn\n",
       "交易日期                                              \n",
       "2021-03-02  0.000437  0.000168  0.000007  0.000269\n",
       "2021-03-03  0.000446  0.000201  0.000041  0.000303\n",
       "2021-03-04  0.000434  0.000190  0.000045  0.000290\n",
       "2021-03-05  0.000415  0.000206  0.000093  0.000276\n",
       "2021-03-08  0.000495  0.000214  0.000184  0.000275"
      ]
     },
     "execution_count": 5,
     "metadata": {},
     "output_type": "execute_result"
    }
   ],
   "source": [
    "var_mtx=pd.DataFrame(index=aapl.index,columns=['aapl','msft','goog','amzn'])\n",
    "var_mtx['aapl']=aapl['EWMA_var']\n",
    "var_mtx['msft']=msft['EWMA_var']\n",
    "var_mtx['goog']=goog['EWMA_var']\n",
    "var_mtx['amzn']=amzn['EWMA_var']\n",
    "var_mtx.head()"
   ]
  },
  {
   "cell_type": "code",
   "execution_count": 6,
   "metadata": {},
   "outputs": [
    {
     "data": {
      "text/plain": [
       "matrix([[ 1.        ,  0.        ,  0.        ,  0.        ],\n",
       "        [ 0.53829778,  0.84275471,  0.        ,  0.        ],\n",
       "        [ 0.40938295,  0.65155584,  0.63865529,  0.        ],\n",
       "        [ 0.86026814,  0.12565265, -0.21969124,  0.44258999]])"
      ]
     },
     "execution_count": 6,
     "metadata": {},
     "output_type": "execute_result"
    }
   ],
   "source": [
    "corr=np.corrcoef(var_mtx.T)\n",
    "cholesky_decomp=np.linalg.cholesky(corr)\n",
    "cholesky_decomp=np.matrix(cholesky_decomp)\n",
    "cholesky_decomp"
   ]
  },
  {
   "cell_type": "markdown",
   "metadata": {},
   "source": [
    "Next we construct risk-free interest rate term structure from OIS rate."
   ]
  },
  {
   "cell_type": "code",
   "execution_count": 7,
   "metadata": {},
   "outputs": [
    {
     "data": {
      "text/html": [
       "<div>\n",
       "<style scoped>\n",
       "    .dataframe tbody tr th:only-of-type {\n",
       "        vertical-align: middle;\n",
       "    }\n",
       "\n",
       "    .dataframe tbody tr th {\n",
       "        vertical-align: top;\n",
       "    }\n",
       "\n",
       "    .dataframe thead th {\n",
       "        text-align: right;\n",
       "    }\n",
       "</style>\n",
       "<table border=\"1\" class=\"dataframe\">\n",
       "  <thead>\n",
       "    <tr style=\"text-align: right;\">\n",
       "      <th></th>\n",
       "      <th>rfr_APR5</th>\n",
       "    </tr>\n",
       "  </thead>\n",
       "  <tbody>\n",
       "    <tr>\n",
       "      <th>2022-04-06</th>\n",
       "      <td>0.003351</td>\n",
       "    </tr>\n",
       "    <tr>\n",
       "      <th>2022-04-07</th>\n",
       "      <td>0.003368</td>\n",
       "    </tr>\n",
       "    <tr>\n",
       "      <th>2022-04-14</th>\n",
       "      <td>0.003474</td>\n",
       "    </tr>\n",
       "    <tr>\n",
       "      <th>2022-04-21</th>\n",
       "      <td>0.003512</td>\n",
       "    </tr>\n",
       "    <tr>\n",
       "      <th>2022-05-09</th>\n",
       "      <td>0.003780</td>\n",
       "    </tr>\n",
       "    <tr>\n",
       "      <th>2022-06-07</th>\n",
       "      <td>0.005670</td>\n",
       "    </tr>\n",
       "    <tr>\n",
       "      <th>2022-07-07</th>\n",
       "      <td>0.007560</td>\n",
       "    </tr>\n",
       "  </tbody>\n",
       "</table>\n",
       "</div>"
      ],
      "text/plain": [
       "            rfr_APR5\n",
       "2022-04-06  0.003351\n",
       "2022-04-07  0.003368\n",
       "2022-04-14  0.003474\n",
       "2022-04-21  0.003512\n",
       "2022-05-09  0.003780\n",
       "2022-06-07  0.005670\n",
       "2022-07-07  0.007560"
      ]
     },
     "execution_count": 7,
     "metadata": {},
     "output_type": "execute_result"
    }
   ],
   "source": [
    "OIS=pd.read_excel('interest_rate.xlsx',header=0,index_col=0,parse_dates=True)\n",
    "OIS_rate=pd.DataFrame(OIS['RATE/PRICE']/100)\n",
    "OIS_rate.index.name=None\n",
    "OIS_rate.columns=['rfr_APR5']\n",
    "OIS_rate"
   ]
  },
  {
   "cell_type": "code",
   "execution_count": 8,
   "metadata": {},
   "outputs": [],
   "source": [
    "def rfr(t1:str,t2:str)->float:\n",
    "    '''\n",
    "    Calculate the risk-free rate between t1 and t2\n",
    "    '''\n",
    "    t0=pd.to_datetime('2022-04-05')\n",
    "    t1=pd.to_datetime(t1)\n",
    "    t2=pd.to_datetime(t2)\n",
    "    t1_t0=(pd.to_datetime(t1)-t0).days/365\n",
    "    t2_t0=(pd.to_datetime(t2)-t0).days/365\n",
    "    delta_t=t2_t0-t1_t0\n",
    "    return (OIS_rate['rfr_APR5'][t2]*t2_t0-OIS_rate['rfr_APR5'][t1]*t1_t0)/delta_t\n",
    "\n",
    "def delta_t(t:str)->float:\n",
    "    '''\n",
    "    Calculate the delta t\n",
    "    '''\n",
    "    t0=pd.to_datetime('2022-04-05')\n",
    "    t=pd.to_datetime(t)\n",
    "    t_t0=(t-t0).days/365\n",
    "    return t_t0"
   ]
  },
  {
   "cell_type": "code",
   "execution_count": 9,
   "metadata": {},
   "outputs": [],
   "source": [
    "term=pd.date_range(start='2022-04-06',end='2022-07-07',freq='B')\n",
    "rfr_df=pd.DataFrame(index=term,dtype='float64',columns=['rfr_APR5','df'])\n",
    "rfr_df.update(OIS_rate)"
   ]
  },
  {
   "cell_type": "code",
   "execution_count": 10,
   "metadata": {},
   "outputs": [],
   "source": [
    "def add_rfr(pillar_date1,pillar_date2):\n",
    "    date1=pd.to_datetime(pillar_date1)\n",
    "    date2=pd.to_datetime(pillar_date2)\n",
    "    for i in pd.date_range(date1+pd.to_timedelta('1 days'),date2-pd.to_timedelta('1 days'),freq='B'):\n",
    "        rfr1=rfr_df['rfr_APR5'][pillar_date1]   # pillar1的OIS\n",
    "        rfr2=rfr_df['rfr_APR5'][pillar_date2]\n",
    "        rfr_m=rfr(pillar_date1,pillar_date2)\n",
    "        rfr_df.loc[i]['rfr_APR5']=rfr_m\n",
    "        rfr_df.loc[i]['df']=np.exp(-rfr1*delta_t(pillar_date1)-rfr_m*(delta_t(i)-delta_t(pillar_date1)))\n",
    "        "
   ]
  },
  {
   "cell_type": "code",
   "execution_count": 11,
   "metadata": {},
   "outputs": [
    {
     "data": {
      "text/html": [
       "<div>\n",
       "<style scoped>\n",
       "    .dataframe tbody tr th:only-of-type {\n",
       "        vertical-align: middle;\n",
       "    }\n",
       "\n",
       "    .dataframe tbody tr th {\n",
       "        vertical-align: top;\n",
       "    }\n",
       "\n",
       "    .dataframe thead th {\n",
       "        text-align: right;\n",
       "    }\n",
       "</style>\n",
       "<table border=\"1\" class=\"dataframe\">\n",
       "  <thead>\n",
       "    <tr style=\"text-align: right;\">\n",
       "      <th></th>\n",
       "      <th>rfr_APR5</th>\n",
       "      <th>df</th>\n",
       "    </tr>\n",
       "  </thead>\n",
       "  <tbody>\n",
       "    <tr>\n",
       "      <th>2022-04-06</th>\n",
       "      <td>0.003351</td>\n",
       "      <td>0.999991</td>\n",
       "    </tr>\n",
       "    <tr>\n",
       "      <th>2022-04-07</th>\n",
       "      <td>0.003368</td>\n",
       "      <td>0.999982</td>\n",
       "    </tr>\n",
       "    <tr>\n",
       "      <th>2022-04-08</th>\n",
       "      <td>0.003504</td>\n",
       "      <td>0.999972</td>\n",
       "    </tr>\n",
       "    <tr>\n",
       "      <th>2022-04-11</th>\n",
       "      <td>0.003504</td>\n",
       "      <td>0.999943</td>\n",
       "    </tr>\n",
       "    <tr>\n",
       "      <th>2022-04-12</th>\n",
       "      <td>0.003504</td>\n",
       "      <td>0.999934</td>\n",
       "    </tr>\n",
       "    <tr>\n",
       "      <th>...</th>\n",
       "      <td>...</td>\n",
       "      <td>...</td>\n",
       "    </tr>\n",
       "    <tr>\n",
       "      <th>2022-07-01</th>\n",
       "      <td>0.011529</td>\n",
       "      <td>0.998265</td>\n",
       "    </tr>\n",
       "    <tr>\n",
       "      <th>2022-07-04</th>\n",
       "      <td>0.011529</td>\n",
       "      <td>0.998170</td>\n",
       "    </tr>\n",
       "    <tr>\n",
       "      <th>2022-07-05</th>\n",
       "      <td>0.011529</td>\n",
       "      <td>0.998139</td>\n",
       "    </tr>\n",
       "    <tr>\n",
       "      <th>2022-07-06</th>\n",
       "      <td>0.011529</td>\n",
       "      <td>0.998107</td>\n",
       "    </tr>\n",
       "    <tr>\n",
       "      <th>2022-07-07</th>\n",
       "      <td>0.007560</td>\n",
       "      <td>0.998076</td>\n",
       "    </tr>\n",
       "  </tbody>\n",
       "</table>\n",
       "<p>67 rows × 2 columns</p>\n",
       "</div>"
      ],
      "text/plain": [
       "            rfr_APR5        df\n",
       "2022-04-06  0.003351  0.999991\n",
       "2022-04-07  0.003368  0.999982\n",
       "2022-04-08  0.003504  0.999972\n",
       "2022-04-11  0.003504  0.999943\n",
       "2022-04-12  0.003504  0.999934\n",
       "...              ...       ...\n",
       "2022-07-01  0.011529  0.998265\n",
       "2022-07-04  0.011529  0.998170\n",
       "2022-07-05  0.011529  0.998139\n",
       "2022-07-06  0.011529  0.998107\n",
       "2022-07-07  0.007560  0.998076\n",
       "\n",
       "[67 rows x 2 columns]"
      ]
     },
     "execution_count": 11,
     "metadata": {},
     "output_type": "execute_result"
    }
   ],
   "source": [
    "add_rfr('2022-04-07','2022-04-14')\n",
    "add_rfr('2022-04-14','2022-04-21')\n",
    "add_rfr('2022-04-21','2022-05-09')\n",
    "add_rfr('2022-05-09','2022-06-07')\n",
    "add_rfr('2022-06-07','2022-07-07')\n",
    "rfr_df['df']['2022-04-06']=np.exp(-rfr_df['rfr_APR5']['2022-04-06']*delta_t('2022-04-06'))\n",
    "rfr_df['df']['2022-04-07']=np.exp(-rfr_df['rfr_APR5']['2022-04-07']*delta_t('2022-04-07'))\n",
    "rfr_df['df']['2022-04-14']=np.exp(-rfr_df['rfr_APR5']['2022-04-14']*delta_t('2022-04-14'))\n",
    "rfr_df['df']['2022-04-21']=np.exp(-rfr_df['rfr_APR5']['2022-04-21']*delta_t('2022-04-21'))\n",
    "rfr_df['df']['2022-05-09']=np.exp(-rfr_df['rfr_APR5']['2022-05-09']*delta_t('2022-05-09'))\n",
    "rfr_df['df']['2022-06-07']=np.exp(-rfr_df['rfr_APR5']['2022-06-07']*delta_t('2022-06-07'))\n",
    "rfr_df['df']['2022-07-07']=np.exp(-rfr_df['rfr_APR5']['2022-07-07']*delta_t('2022-07-07'))\n",
    "rfr_df\n",
    "\n"
   ]
  },
  {
   "cell_type": "code",
   "execution_count": 72,
   "metadata": {},
   "outputs": [
    {
     "data": {
      "image/png": "[encoded data removed]",
      "text/plain": [
       "<Figure size 432x288 with 1 Axes>"
      ]
     },
     "metadata": {
      "needs_background": "light"
     },
     "output_type": "display_data"
    }
   ],
   "source": [
    "plt.plot(rfr_df['rfr'])\n",
    "plt.show()"
   ]
  },
  {
   "cell_type": "code",
   "execution_count": 64,
   "metadata": {},
   "outputs": [
    {
     "name": "stderr",
     "output_type": "stream",
     "text": [
      "C:\\Users\\Lenovo\\AppData\\Local\\Temp\\ipykernel_8724\\864188805.py:14: RuntimeWarning: divide by zero encountered in log\n",
      "  ewma_sigma=0.94*ewma_sigma+0.06*np.log(Si_S0/Si1_S0)**2\n",
      "C:\\Users\\Lenovo\\AppData\\Local\\Temp\\ipykernel_8724\\864188805.py:13: RuntimeWarning: invalid value encountered in double_scalars\n",
      "  Si_S0=np.exp(r_barT-1/2*sigma_sum+(np.log(ewma_sigma)+root_sigma_sum)*Y[i,0])\n",
      "C:\\Users\\Lenovo\\AppData\\Local\\Temp\\ipykernel_8724\\864188805.py:14: RuntimeWarning: invalid value encountered in double_scalars\n",
      "  ewma_sigma=0.94*ewma_sigma+0.06*np.log(Si_S0/Si1_S0)**2\n"
     ]
    }
   ],
   "source": [
    "rng=np.random.default_rng(21)\n",
    "\n",
    "ST_S0=[]  # 存放ST/S0\n",
    "for i in range(4):\n",
    "    ewma_sigma=var_mtx.iloc[-1,i]\n",
    "    sigma_sum=ewma_sigma\n",
    "    root_sigma_sum=np.sqrt(ewma_sigma)\n",
    "    Si1_S0=1\n",
    "    for m in rfr_df['df'].index:\n",
    "        Z=rng.standard_normal((4,1))\n",
    "        Y=np.dot(cholesky_decomp,Z)\n",
    "        r_barT=-np.log(rfr_df['df'][m])\n",
    "        Si_S0=np.exp(r_barT-1/2*sigma_sum+root_sigma_sum*Y[i,0])   \n",
    "        ewma_sigma=0.94*ewma_sigma+0.06*np.log(Si_S0/Si1_S0)**2\n",
    "        Si1_S0=Si_S0\n",
    "        root_sigma_sum+=np.sqrt(ewma_sigma)  # 问题在于方差的和与rbarT的日期长度不对应，应该多减去一些休息日方差\n",
    "        sigma_sum+=ewma_sigma\n",
    "    ST_S0.append(Si_S0)"
   ]
  },
  {
   "cell_type": "code",
   "execution_count": 63,
   "metadata": {},
   "outputs": [
    {
     "data": {
      "text/plain": [
       "[nan, nan, nan, nan]"
      ]
     },
     "execution_count": 63,
     "metadata": {},
     "output_type": "execute_result"
    }
   ],
   "source": [
    "ST_S0"
   ]
  },
  {
   "cell_type": "code",
   "execution_count": 71,
   "metadata": {},
   "outputs": [
    {
     "data": {
      "text/plain": [
       "-1.0361258194954805"
      ]
     },
     "execution_count": 71,
     "metadata": {},
     "output_type": "execute_result"
    }
   ],
   "source": [
    "Y[1,0]"
   ]
  }
 ],
 "metadata": {
  "interpreter": {
   "hash": "b89b5cfaba6639976dc87ff2fec6d58faec662063367e2c229c520fe71072417"
  },
  "kernelspec": {
   "display_name": "Python 3.10.1 64-bit",
   "language": "python",
   "name": "python3"
  },
  "language_info": {
   "codemirror_mode": {
    "name": "ipython",
    "version": 3
   },
   "file_extension": ".py",
   "mimetype": "text/x-python",
   "name": "python",
   "nbconvert_exporter": "python",
   "pygments_lexer": "ipython3",
   "version": "3.10.1"
  },
  "orig_nbformat": 4
 },
 "nbformat": 4,
 "nbformat_minor": 2
}
